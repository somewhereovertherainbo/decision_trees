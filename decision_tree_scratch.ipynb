{
  "nbformat": 4,
  "nbformat_minor": 0,
  "metadata": {
    "colab": {
      "provenance": [],
      "authorship_tag": "ABX9TyNBsGj6P/fzG6kVKWMaePI5",
      "include_colab_link": true
    },
    "kernelspec": {
      "name": "python3",
      "display_name": "Python 3"
    },
    "language_info": {
      "name": "python"
    }
  },
  "cells": [
    {
      "cell_type": "markdown",
      "metadata": {
        "id": "view-in-github",
        "colab_type": "text"
      },
      "source": [
        "<a href=\"https://colab.research.google.com/github/somewhereovertherainbo/decision_trees/blob/main/decision_tree_scratch.ipynb\" target=\"_parent\"><img src=\"https://colab.research.google.com/assets/colab-badge.svg\" alt=\"Open In Colab\"/></a>"
      ]
    },
    {
      "cell_type": "code",
      "source": [
        "import pandas as pd\n",
        "import numpy as np\n",
        "\n",
        "import matplotlib.pyplot as plt\n",
        "import seaborn as sns\n",
        "%matplotlib inline\n",
        "\n",
        "import random\n",
        "import pprint as pprint"
      ],
      "metadata": {
        "id": "7VzavocevA4w"
      },
      "execution_count": 1,
      "outputs": []
    },
    {
      "cell_type": "markdown",
      "source": [
        "# Load and prepare data"
      ],
      "metadata": {
        "id": "AxlOwYUPu4bc"
      }
    },
    {
      "cell_type": "code",
      "source": [
        "csv_train = pd.read_csv('https://raw.githubusercontent.com/somewhereovertherainbo/decision_trees/main/data/kidney_disease_train.csv')\n",
        "csv_test = pd.read_csv('https://raw.githubusercontent.com/somewhereovertherainbo/decision_trees/main/data/kidney_disease_test.csv')"
      ],
      "metadata": {
        "id": "9D-c84o5vE7N"
      },
      "execution_count": 2,
      "outputs": []
    },
    {
      "cell_type": "code",
      "source": [
        "csv_train.head()"
      ],
      "metadata": {
        "colab": {
          "base_uri": "https://localhost:8080/",
          "height": 255
        },
        "id": "eSa6MqgMvJf5",
        "outputId": "7bbcd46a-37e8-43ed-dd80-abdccee43a54"
      },
      "execution_count": 3,
      "outputs": [
        {
          "output_type": "execute_result",
          "data": {
            "text/plain": [
              "    id   age     bp     sg   al   su     rbc        pc         pcc  \\\n",
              "0  157  62.0   70.0  1.025  3.0  0.0  normal  abnormal  notpresent   \n",
              "1  109  54.0   70.0    NaN  NaN  NaN     NaN       NaN  notpresent   \n",
              "2   17  47.0   80.0    NaN  NaN  NaN     NaN       NaN  notpresent   \n",
              "3  347  43.0   60.0  1.025  0.0  0.0  normal    normal  notpresent   \n",
              "4   24  42.0  100.0  1.015  4.0  0.0  normal  abnormal  notpresent   \n",
              "\n",
              "           ba  ...   pcv    wc   rc  htn   dm  cad  appet  pe ane  \\\n",
              "0  notpresent  ...  39.0  7900  3.9  yes  yes   no   good  no  no   \n",
              "1  notpresent  ...   NaN   NaN  NaN   no  yes   no   good  no  no   \n",
              "2  notpresent  ...   NaN   NaN  NaN  yes   no   no   poor  no  no   \n",
              "3  notpresent  ...  43.0  7200  5.5   no   no   no   good  no  no   \n",
              "4     present  ...  39.0  8300  4.6  yes   no   no   poor  no  no   \n",
              "\n",
              "  classification  \n",
              "0            ckd  \n",
              "1            ckd  \n",
              "2            ckd  \n",
              "3         notckd  \n",
              "4            ckd  \n",
              "\n",
              "[5 rows x 26 columns]"
            ],
            "text/html": [
              "\n",
              "  <div id=\"df-0f254631-2df6-42e5-9b0d-4d800891fb37\" class=\"colab-df-container\">\n",
              "    <div>\n",
              "<style scoped>\n",
              "    .dataframe tbody tr th:only-of-type {\n",
              "        vertical-align: middle;\n",
              "    }\n",
              "\n",
              "    .dataframe tbody tr th {\n",
              "        vertical-align: top;\n",
              "    }\n",
              "\n",
              "    .dataframe thead th {\n",
              "        text-align: right;\n",
              "    }\n",
              "</style>\n",
              "<table border=\"1\" class=\"dataframe\">\n",
              "  <thead>\n",
              "    <tr style=\"text-align: right;\">\n",
              "      <th></th>\n",
              "      <th>id</th>\n",
              "      <th>age</th>\n",
              "      <th>bp</th>\n",
              "      <th>sg</th>\n",
              "      <th>al</th>\n",
              "      <th>su</th>\n",
              "      <th>rbc</th>\n",
              "      <th>pc</th>\n",
              "      <th>pcc</th>\n",
              "      <th>ba</th>\n",
              "      <th>...</th>\n",
              "      <th>pcv</th>\n",
              "      <th>wc</th>\n",
              "      <th>rc</th>\n",
              "      <th>htn</th>\n",
              "      <th>dm</th>\n",
              "      <th>cad</th>\n",
              "      <th>appet</th>\n",
              "      <th>pe</th>\n",
              "      <th>ane</th>\n",
              "      <th>classification</th>\n",
              "    </tr>\n",
              "  </thead>\n",
              "  <tbody>\n",
              "    <tr>\n",
              "      <th>0</th>\n",
              "      <td>157</td>\n",
              "      <td>62.0</td>\n",
              "      <td>70.0</td>\n",
              "      <td>1.025</td>\n",
              "      <td>3.0</td>\n",
              "      <td>0.0</td>\n",
              "      <td>normal</td>\n",
              "      <td>abnormal</td>\n",
              "      <td>notpresent</td>\n",
              "      <td>notpresent</td>\n",
              "      <td>...</td>\n",
              "      <td>39.0</td>\n",
              "      <td>7900</td>\n",
              "      <td>3.9</td>\n",
              "      <td>yes</td>\n",
              "      <td>yes</td>\n",
              "      <td>no</td>\n",
              "      <td>good</td>\n",
              "      <td>no</td>\n",
              "      <td>no</td>\n",
              "      <td>ckd</td>\n",
              "    </tr>\n",
              "    <tr>\n",
              "      <th>1</th>\n",
              "      <td>109</td>\n",
              "      <td>54.0</td>\n",
              "      <td>70.0</td>\n",
              "      <td>NaN</td>\n",
              "      <td>NaN</td>\n",
              "      <td>NaN</td>\n",
              "      <td>NaN</td>\n",
              "      <td>NaN</td>\n",
              "      <td>notpresent</td>\n",
              "      <td>notpresent</td>\n",
              "      <td>...</td>\n",
              "      <td>NaN</td>\n",
              "      <td>NaN</td>\n",
              "      <td>NaN</td>\n",
              "      <td>no</td>\n",
              "      <td>yes</td>\n",
              "      <td>no</td>\n",
              "      <td>good</td>\n",
              "      <td>no</td>\n",
              "      <td>no</td>\n",
              "      <td>ckd</td>\n",
              "    </tr>\n",
              "    <tr>\n",
              "      <th>2</th>\n",
              "      <td>17</td>\n",
              "      <td>47.0</td>\n",
              "      <td>80.0</td>\n",
              "      <td>NaN</td>\n",
              "      <td>NaN</td>\n",
              "      <td>NaN</td>\n",
              "      <td>NaN</td>\n",
              "      <td>NaN</td>\n",
              "      <td>notpresent</td>\n",
              "      <td>notpresent</td>\n",
              "      <td>...</td>\n",
              "      <td>NaN</td>\n",
              "      <td>NaN</td>\n",
              "      <td>NaN</td>\n",
              "      <td>yes</td>\n",
              "      <td>no</td>\n",
              "      <td>no</td>\n",
              "      <td>poor</td>\n",
              "      <td>no</td>\n",
              "      <td>no</td>\n",
              "      <td>ckd</td>\n",
              "    </tr>\n",
              "    <tr>\n",
              "      <th>3</th>\n",
              "      <td>347</td>\n",
              "      <td>43.0</td>\n",
              "      <td>60.0</td>\n",
              "      <td>1.025</td>\n",
              "      <td>0.0</td>\n",
              "      <td>0.0</td>\n",
              "      <td>normal</td>\n",
              "      <td>normal</td>\n",
              "      <td>notpresent</td>\n",
              "      <td>notpresent</td>\n",
              "      <td>...</td>\n",
              "      <td>43.0</td>\n",
              "      <td>7200</td>\n",
              "      <td>5.5</td>\n",
              "      <td>no</td>\n",
              "      <td>no</td>\n",
              "      <td>no</td>\n",
              "      <td>good</td>\n",
              "      <td>no</td>\n",
              "      <td>no</td>\n",
              "      <td>notckd</td>\n",
              "    </tr>\n",
              "    <tr>\n",
              "      <th>4</th>\n",
              "      <td>24</td>\n",
              "      <td>42.0</td>\n",
              "      <td>100.0</td>\n",
              "      <td>1.015</td>\n",
              "      <td>4.0</td>\n",
              "      <td>0.0</td>\n",
              "      <td>normal</td>\n",
              "      <td>abnormal</td>\n",
              "      <td>notpresent</td>\n",
              "      <td>present</td>\n",
              "      <td>...</td>\n",
              "      <td>39.0</td>\n",
              "      <td>8300</td>\n",
              "      <td>4.6</td>\n",
              "      <td>yes</td>\n",
              "      <td>no</td>\n",
              "      <td>no</td>\n",
              "      <td>poor</td>\n",
              "      <td>no</td>\n",
              "      <td>no</td>\n",
              "      <td>ckd</td>\n",
              "    </tr>\n",
              "  </tbody>\n",
              "</table>\n",
              "<p>5 rows × 26 columns</p>\n",
              "</div>\n",
              "    <div class=\"colab-df-buttons\">\n",
              "\n",
              "  <div class=\"colab-df-container\">\n",
              "    <button class=\"colab-df-convert\" onclick=\"convertToInteractive('df-0f254631-2df6-42e5-9b0d-4d800891fb37')\"\n",
              "            title=\"Convert this dataframe to an interactive table.\"\n",
              "            style=\"display:none;\">\n",
              "\n",
              "  <svg xmlns=\"http://www.w3.org/2000/svg\" height=\"24px\" viewBox=\"0 -960 960 960\">\n",
              "    <path d=\"M120-120v-720h720v720H120Zm60-500h600v-160H180v160Zm220 220h160v-160H400v160Zm0 220h160v-160H400v160ZM180-400h160v-160H180v160Zm440 0h160v-160H620v160ZM180-180h160v-160H180v160Zm440 0h160v-160H620v160Z\"/>\n",
              "  </svg>\n",
              "    </button>\n",
              "\n",
              "  <style>\n",
              "    .colab-df-container {\n",
              "      display:flex;\n",
              "      gap: 12px;\n",
              "    }\n",
              "\n",
              "    .colab-df-convert {\n",
              "      background-color: #E8F0FE;\n",
              "      border: none;\n",
              "      border-radius: 50%;\n",
              "      cursor: pointer;\n",
              "      display: none;\n",
              "      fill: #1967D2;\n",
              "      height: 32px;\n",
              "      padding: 0 0 0 0;\n",
              "      width: 32px;\n",
              "    }\n",
              "\n",
              "    .colab-df-convert:hover {\n",
              "      background-color: #E2EBFA;\n",
              "      box-shadow: 0px 1px 2px rgba(60, 64, 67, 0.3), 0px 1px 3px 1px rgba(60, 64, 67, 0.15);\n",
              "      fill: #174EA6;\n",
              "    }\n",
              "\n",
              "    .colab-df-buttons div {\n",
              "      margin-bottom: 4px;\n",
              "    }\n",
              "\n",
              "    [theme=dark] .colab-df-convert {\n",
              "      background-color: #3B4455;\n",
              "      fill: #D2E3FC;\n",
              "    }\n",
              "\n",
              "    [theme=dark] .colab-df-convert:hover {\n",
              "      background-color: #434B5C;\n",
              "      box-shadow: 0px 1px 3px 1px rgba(0, 0, 0, 0.15);\n",
              "      filter: drop-shadow(0px 1px 2px rgba(0, 0, 0, 0.3));\n",
              "      fill: #FFFFFF;\n",
              "    }\n",
              "  </style>\n",
              "\n",
              "    <script>\n",
              "      const buttonEl =\n",
              "        document.querySelector('#df-0f254631-2df6-42e5-9b0d-4d800891fb37 button.colab-df-convert');\n",
              "      buttonEl.style.display =\n",
              "        google.colab.kernel.accessAllowed ? 'block' : 'none';\n",
              "\n",
              "      async function convertToInteractive(key) {\n",
              "        const element = document.querySelector('#df-0f254631-2df6-42e5-9b0d-4d800891fb37');\n",
              "        const dataTable =\n",
              "          await google.colab.kernel.invokeFunction('convertToInteractive',\n",
              "                                                    [key], {});\n",
              "        if (!dataTable) return;\n",
              "\n",
              "        const docLinkHtml = 'Like what you see? Visit the ' +\n",
              "          '<a target=\"_blank\" href=https://colab.research.google.com/notebooks/data_table.ipynb>data table notebook</a>'\n",
              "          + ' to learn more about interactive tables.';\n",
              "        element.innerHTML = '';\n",
              "        dataTable['output_type'] = 'display_data';\n",
              "        await google.colab.output.renderOutput(dataTable, element);\n",
              "        const docLink = document.createElement('div');\n",
              "        docLink.innerHTML = docLinkHtml;\n",
              "        element.appendChild(docLink);\n",
              "      }\n",
              "    </script>\n",
              "  </div>\n",
              "\n",
              "\n",
              "<div id=\"df-29729673-3c71-43c5-8d03-ef23c94d09ad\">\n",
              "  <button class=\"colab-df-quickchart\" onclick=\"quickchart('df-29729673-3c71-43c5-8d03-ef23c94d09ad')\"\n",
              "            title=\"Suggest charts\"\n",
              "            style=\"display:none;\">\n",
              "\n",
              "<svg xmlns=\"http://www.w3.org/2000/svg\" height=\"24px\"viewBox=\"0 0 24 24\"\n",
              "     width=\"24px\">\n",
              "    <g>\n",
              "        <path d=\"M19 3H5c-1.1 0-2 .9-2 2v14c0 1.1.9 2 2 2h14c1.1 0 2-.9 2-2V5c0-1.1-.9-2-2-2zM9 17H7v-7h2v7zm4 0h-2V7h2v10zm4 0h-2v-4h2v4z\"/>\n",
              "    </g>\n",
              "</svg>\n",
              "  </button>\n",
              "\n",
              "<style>\n",
              "  .colab-df-quickchart {\n",
              "      --bg-color: #E8F0FE;\n",
              "      --fill-color: #1967D2;\n",
              "      --hover-bg-color: #E2EBFA;\n",
              "      --hover-fill-color: #174EA6;\n",
              "      --disabled-fill-color: #AAA;\n",
              "      --disabled-bg-color: #DDD;\n",
              "  }\n",
              "\n",
              "  [theme=dark] .colab-df-quickchart {\n",
              "      --bg-color: #3B4455;\n",
              "      --fill-color: #D2E3FC;\n",
              "      --hover-bg-color: #434B5C;\n",
              "      --hover-fill-color: #FFFFFF;\n",
              "      --disabled-bg-color: #3B4455;\n",
              "      --disabled-fill-color: #666;\n",
              "  }\n",
              "\n",
              "  .colab-df-quickchart {\n",
              "    background-color: var(--bg-color);\n",
              "    border: none;\n",
              "    border-radius: 50%;\n",
              "    cursor: pointer;\n",
              "    display: none;\n",
              "    fill: var(--fill-color);\n",
              "    height: 32px;\n",
              "    padding: 0;\n",
              "    width: 32px;\n",
              "  }\n",
              "\n",
              "  .colab-df-quickchart:hover {\n",
              "    background-color: var(--hover-bg-color);\n",
              "    box-shadow: 0 1px 2px rgba(60, 64, 67, 0.3), 0 1px 3px 1px rgba(60, 64, 67, 0.15);\n",
              "    fill: var(--button-hover-fill-color);\n",
              "  }\n",
              "\n",
              "  .colab-df-quickchart-complete:disabled,\n",
              "  .colab-df-quickchart-complete:disabled:hover {\n",
              "    background-color: var(--disabled-bg-color);\n",
              "    fill: var(--disabled-fill-color);\n",
              "    box-shadow: none;\n",
              "  }\n",
              "\n",
              "  .colab-df-spinner {\n",
              "    border: 2px solid var(--fill-color);\n",
              "    border-color: transparent;\n",
              "    border-bottom-color: var(--fill-color);\n",
              "    animation:\n",
              "      spin 1s steps(1) infinite;\n",
              "  }\n",
              "\n",
              "  @keyframes spin {\n",
              "    0% {\n",
              "      border-color: transparent;\n",
              "      border-bottom-color: var(--fill-color);\n",
              "      border-left-color: var(--fill-color);\n",
              "    }\n",
              "    20% {\n",
              "      border-color: transparent;\n",
              "      border-left-color: var(--fill-color);\n",
              "      border-top-color: var(--fill-color);\n",
              "    }\n",
              "    30% {\n",
              "      border-color: transparent;\n",
              "      border-left-color: var(--fill-color);\n",
              "      border-top-color: var(--fill-color);\n",
              "      border-right-color: var(--fill-color);\n",
              "    }\n",
              "    40% {\n",
              "      border-color: transparent;\n",
              "      border-right-color: var(--fill-color);\n",
              "      border-top-color: var(--fill-color);\n",
              "    }\n",
              "    60% {\n",
              "      border-color: transparent;\n",
              "      border-right-color: var(--fill-color);\n",
              "    }\n",
              "    80% {\n",
              "      border-color: transparent;\n",
              "      border-right-color: var(--fill-color);\n",
              "      border-bottom-color: var(--fill-color);\n",
              "    }\n",
              "    90% {\n",
              "      border-color: transparent;\n",
              "      border-bottom-color: var(--fill-color);\n",
              "    }\n",
              "  }\n",
              "</style>\n",
              "\n",
              "  <script>\n",
              "    async function quickchart(key) {\n",
              "      const quickchartButtonEl =\n",
              "        document.querySelector('#' + key + ' button');\n",
              "      quickchartButtonEl.disabled = true;  // To prevent multiple clicks.\n",
              "      quickchartButtonEl.classList.add('colab-df-spinner');\n",
              "      try {\n",
              "        const charts = await google.colab.kernel.invokeFunction(\n",
              "            'suggestCharts', [key], {});\n",
              "      } catch (error) {\n",
              "        console.error('Error during call to suggestCharts:', error);\n",
              "      }\n",
              "      quickchartButtonEl.classList.remove('colab-df-spinner');\n",
              "      quickchartButtonEl.classList.add('colab-df-quickchart-complete');\n",
              "    }\n",
              "    (() => {\n",
              "      let quickchartButtonEl =\n",
              "        document.querySelector('#df-29729673-3c71-43c5-8d03-ef23c94d09ad button');\n",
              "      quickchartButtonEl.style.display =\n",
              "        google.colab.kernel.accessAllowed ? 'block' : 'none';\n",
              "    })();\n",
              "  </script>\n",
              "</div>\n",
              "\n",
              "    </div>\n",
              "  </div>\n"
            ],
            "application/vnd.google.colaboratory.intrinsic+json": {
              "type": "dataframe",
              "variable_name": "csv_train"
            }
          },
          "metadata": {},
          "execution_count": 3
        }
      ]
    },
    {
      "cell_type": "code",
      "source": [
        "csv_train['su'].value_counts()"
      ],
      "metadata": {
        "colab": {
          "base_uri": "https://localhost:8080/"
        },
        "id": "p1FBcI4tEWll",
        "outputId": "63dc85b6-3097-4bd3-b23b-6f82648d7753"
      },
      "execution_count": 4,
      "outputs": [
        {
          "output_type": "execute_result",
          "data": {
            "text/plain": [
              "0.0    199\n",
              "1.0     12\n",
              "2.0     11\n",
              "3.0     10\n",
              "4.0      8\n",
              "5.0      2\n",
              "Name: su, dtype: int64"
            ]
          },
          "metadata": {},
          "execution_count": 4
        }
      ]
    },
    {
      "cell_type": "code",
      "source": [
        "csv_train.info()"
      ],
      "metadata": {
        "colab": {
          "base_uri": "https://localhost:8080/"
        },
        "id": "_yU0T8S0vL0F",
        "outputId": "35d2981a-7a47-45f0-ce36-b753b987f841"
      },
      "execution_count": 5,
      "outputs": [
        {
          "output_type": "stream",
          "name": "stdout",
          "text": [
            "<class 'pandas.core.frame.DataFrame'>\n",
            "RangeIndex: 280 entries, 0 to 279\n",
            "Data columns (total 26 columns):\n",
            " #   Column          Non-Null Count  Dtype  \n",
            "---  ------          --------------  -----  \n",
            " 0   id              280 non-null    int64  \n",
            " 1   age             275 non-null    float64\n",
            " 2   bp              271 non-null    float64\n",
            " 3   sg              244 non-null    float64\n",
            " 4   al              245 non-null    float64\n",
            " 5   su              242 non-null    float64\n",
            " 6   rbc             173 non-null    object \n",
            " 7   pc              230 non-null    object \n",
            " 8   pcc             276 non-null    object \n",
            " 9   ba              276 non-null    object \n",
            " 10  bgr             247 non-null    float64\n",
            " 11  bu              266 non-null    float64\n",
            " 12  sc              268 non-null    float64\n",
            " 13  sod             213 non-null    float64\n",
            " 14  pot             212 non-null    float64\n",
            " 15  hemo            241 non-null    float64\n",
            " 16  pcv             229 non-null    float64\n",
            " 17  wc              203 non-null    object \n",
            " 18  rc              187 non-null    object \n",
            " 19  htn             279 non-null    object \n",
            " 20  dm              279 non-null    object \n",
            " 21  cad             279 non-null    object \n",
            " 22  appet           280 non-null    object \n",
            " 23  pe              280 non-null    object \n",
            " 24  ane             280 non-null    object \n",
            " 25  classification  280 non-null    object \n",
            "dtypes: float64(12), int64(1), object(13)\n",
            "memory usage: 57.0+ KB\n"
          ]
        }
      ]
    },
    {
      "cell_type": "code",
      "source": [
        "csv_train.columns"
      ],
      "metadata": {
        "colab": {
          "base_uri": "https://localhost:8080/"
        },
        "id": "MWm1UYZbvSkg",
        "outputId": "d3eabe71-93de-4a15-bb3e-3e3dcd6618e5"
      },
      "execution_count": 6,
      "outputs": [
        {
          "output_type": "execute_result",
          "data": {
            "text/plain": [
              "Index(['id', 'age', 'bp', 'sg', 'al', 'su', 'rbc', 'pc', 'pcc', 'ba', 'bgr',\n",
              "       'bu', 'sc', 'sod', 'pot', 'hemo', 'pcv', 'wc', 'rc', 'htn', 'dm', 'cad',\n",
              "       'appet', 'pe', 'ane', 'classification'],\n",
              "      dtype='object')"
            ]
          },
          "metadata": {},
          "execution_count": 6
        }
      ]
    },
    {
      "cell_type": "code",
      "source": [
        "cat_cols = ['rbc','pc','pcc','ba','wc','rc',\n",
        "            'cad','htn','dm','appet','pe','ane']"
      ],
      "metadata": {
        "id": "t4NIw_qEv5Y1"
      },
      "execution_count": 7,
      "outputs": []
    },
    {
      "cell_type": "code",
      "source": [
        "csv_train = csv_train.drop(['id','rbc','pc','pcc','ba','wc','rc',\n",
        "                'cad','htn','dm','appet','pe','ane'], axis = 1)\n",
        "csv_test = csv_test.drop(['id','rbc','pc','pcc','ba','wc','rc',\n",
        "                'cad','htn','dm','appet','pe','ane'], axis = 1)"
      ],
      "metadata": {
        "id": "bIuRvYXHuxSf"
      },
      "execution_count": 8,
      "outputs": []
    },
    {
      "cell_type": "code",
      "source": [
        "# check for null values\n",
        "csv_train.info()"
      ],
      "metadata": {
        "colab": {
          "base_uri": "https://localhost:8080/"
        },
        "id": "--4utrtHwa8x",
        "outputId": "6063aaca-afa9-4286-e785-90adfe09e0fc"
      },
      "execution_count": 9,
      "outputs": [
        {
          "output_type": "stream",
          "name": "stdout",
          "text": [
            "<class 'pandas.core.frame.DataFrame'>\n",
            "RangeIndex: 280 entries, 0 to 279\n",
            "Data columns (total 13 columns):\n",
            " #   Column          Non-Null Count  Dtype  \n",
            "---  ------          --------------  -----  \n",
            " 0   age             275 non-null    float64\n",
            " 1   bp              271 non-null    float64\n",
            " 2   sg              244 non-null    float64\n",
            " 3   al              245 non-null    float64\n",
            " 4   su              242 non-null    float64\n",
            " 5   bgr             247 non-null    float64\n",
            " 6   bu              266 non-null    float64\n",
            " 7   sc              268 non-null    float64\n",
            " 8   sod             213 non-null    float64\n",
            " 9   pot             212 non-null    float64\n",
            " 10  hemo            241 non-null    float64\n",
            " 11  pcv             229 non-null    float64\n",
            " 12  classification  280 non-null    object \n",
            "dtypes: float64(12), object(1)\n",
            "memory usage: 28.6+ KB\n"
          ]
        }
      ]
    },
    {
      "cell_type": "markdown",
      "source": [
        "## First, we learn to work with numeric data only"
      ],
      "metadata": {
        "id": "6yVXl1gxvQ9V"
      }
    },
    {
      "cell_type": "code",
      "source": [
        "csv_train['age'].fillna(csv_train['age'].median(), inplace = True)\n",
        "csv_train['bp'].fillna(csv_train['bp'].mode()[0], inplace = True)\n",
        "csv_train['al'].fillna(csv_train['al'].mode()[0], inplace = True)\n",
        "csv_train['su'].fillna(csv_train['su'].mode()[0], inplace = True)\n",
        "csv_train['sc'].fillna(csv_train['sc'].mode()[0], inplace = True)\n",
        "csv_train['sg'].fillna(csv_train['sg'].mean(), inplace = True)\n",
        "csv_train['bgr'].fillna(csv_train['bgr'].mean(), inplace = True)\n",
        "csv_train['bu'].fillna(csv_train['bu'].mean(), inplace = True)\n",
        "csv_train['pot'].fillna(csv_train['pot'].mean(), inplace = True)\n",
        "csv_train['sod'].fillna(csv_train['sod'].mean(), inplace = True)\n",
        "csv_train['hemo'].fillna(csv_train['hemo'].mean(), inplace = True)\n",
        "csv_train['pcv'].fillna(csv_train['pcv'].mean(), inplace = True)"
      ],
      "metadata": {
        "id": "IRGYZUe4u_VG"
      },
      "execution_count": 10,
      "outputs": []
    },
    {
      "cell_type": "code",
      "source": [
        "csv_test.replace('\\t?', float('nan'), inplace = True)"
      ],
      "metadata": {
        "id": "yVg-jBQwktzR"
      },
      "execution_count": 11,
      "outputs": []
    },
    {
      "cell_type": "code",
      "source": [
        "csv_test['pcv'] = csv_test['pcv'].astype(float)"
      ],
      "metadata": {
        "id": "y6Zg2Z0qG3RC"
      },
      "execution_count": 12,
      "outputs": []
    },
    {
      "cell_type": "code",
      "source": [
        "csv_test['age'].fillna(csv_test['age'].median(), inplace = True)\n",
        "csv_test['bp'].fillna(csv_test['bp'].mode()[0], inplace = True)\n",
        "csv_test['al'].fillna(csv_test['al'].mode()[0], inplace = True)\n",
        "csv_test['su'].fillna(csv_test['su'].mode()[0], inplace = True)\n",
        "csv_test['sc'].fillna(csv_test['sc'].mode()[0], inplace = True)\n",
        "csv_test['sg'].fillna(csv_test['sg'].mean(), inplace = True)\n",
        "csv_test['bgr'].fillna(csv_test['bgr'].mean(), inplace = True)\n",
        "csv_test['bu'].fillna(csv_test['bu'].mean(), inplace = True)\n",
        "csv_test['pot'].fillna(csv_test['pot'].mean(), inplace = True)\n",
        "csv_test['sod'].fillna(csv_test['sod'].mean(), inplace = True)\n",
        "csv_test['hemo'].fillna(csv_test['hemo'].mean(), inplace = True)\n",
        "csv_test['pcv'].fillna(csv_test['pcv'].mean(), inplace = True)"
      ],
      "metadata": {
        "id": "bV3rxw9UjEhk"
      },
      "execution_count": 13,
      "outputs": []
    },
    {
      "cell_type": "code",
      "source": [
        "csv_test.info(), csv_train.info()"
      ],
      "metadata": {
        "colab": {
          "base_uri": "https://localhost:8080/"
        },
        "id": "m-wBWx3DGFLT",
        "outputId": "23e77dd8-f392-4870-9e0e-0128218465e3"
      },
      "execution_count": 14,
      "outputs": [
        {
          "output_type": "stream",
          "name": "stdout",
          "text": [
            "<class 'pandas.core.frame.DataFrame'>\n",
            "RangeIndex: 120 entries, 0 to 119\n",
            "Data columns (total 12 columns):\n",
            " #   Column  Non-Null Count  Dtype  \n",
            "---  ------  --------------  -----  \n",
            " 0   age     120 non-null    float64\n",
            " 1   bp      120 non-null    float64\n",
            " 2   sg      120 non-null    float64\n",
            " 3   al      120 non-null    float64\n",
            " 4   su      120 non-null    float64\n",
            " 5   bgr     120 non-null    float64\n",
            " 6   bu      120 non-null    float64\n",
            " 7   sc      120 non-null    float64\n",
            " 8   sod     120 non-null    float64\n",
            " 9   pot     120 non-null    float64\n",
            " 10  hemo    120 non-null    float64\n",
            " 11  pcv     120 non-null    float64\n",
            "dtypes: float64(12)\n",
            "memory usage: 11.4 KB\n",
            "<class 'pandas.core.frame.DataFrame'>\n",
            "RangeIndex: 280 entries, 0 to 279\n",
            "Data columns (total 13 columns):\n",
            " #   Column          Non-Null Count  Dtype  \n",
            "---  ------          --------------  -----  \n",
            " 0   age             280 non-null    float64\n",
            " 1   bp              280 non-null    float64\n",
            " 2   sg              280 non-null    float64\n",
            " 3   al              280 non-null    float64\n",
            " 4   su              280 non-null    float64\n",
            " 5   bgr             280 non-null    float64\n",
            " 6   bu              280 non-null    float64\n",
            " 7   sc              280 non-null    float64\n",
            " 8   sod             280 non-null    float64\n",
            " 9   pot             280 non-null    float64\n",
            " 10  hemo            280 non-null    float64\n",
            " 11  pcv             280 non-null    float64\n",
            " 12  classification  280 non-null    object \n",
            "dtypes: float64(12), object(1)\n",
            "memory usage: 28.6+ KB\n"
          ]
        },
        {
          "output_type": "execute_result",
          "data": {
            "text/plain": [
              "(None, None)"
            ]
          },
          "metadata": {},
          "execution_count": 14
        }
      ]
    },
    {
      "cell_type": "markdown",
      "source": [
        "# Adding Functionalities for algorithm"
      ],
      "metadata": {
        "id": "HQIr9yjOHi6I"
      }
    },
    {
      "cell_type": "code",
      "source": [
        "csv_train['classification'].value_counts().values.argmax()"
      ],
      "metadata": {
        "colab": {
          "base_uri": "https://localhost:8080/"
        },
        "id": "CVgpHsF6Icvs",
        "outputId": "8258c957-03fd-434e-a174-fe7ec44671e0"
      },
      "execution_count": 15,
      "outputs": [
        {
          "output_type": "execute_result",
          "data": {
            "text/plain": [
              "0"
            ]
          },
          "metadata": {},
          "execution_count": 15
        }
      ]
    },
    {
      "cell_type": "code",
      "source": [
        "def check_purity(df):\n",
        "\n",
        "  label_column = df[df.columns[-1]]\n",
        "  unique_classes = label_column.unique()\n",
        "\n",
        "  if len(unique_classes)== 1:\n",
        "    return True\n",
        "  else:\n",
        "    return False"
      ],
      "metadata": {
        "id": "qNWUFwhzHska"
      },
      "execution_count": 16,
      "outputs": []
    },
    {
      "cell_type": "code",
      "source": [
        "def classify_data(df):\n",
        "\n",
        "  label_column = df[df.columns[-1]]\n",
        "  unique_classes = label_column.value_counts().index\n",
        "  counts_unique_classes = label_column.value_counts().values\n",
        "\n",
        "  index = counts_unique_classes.argmax()\n",
        "  classification = unique_classes[index]\n",
        "\n",
        "  return classification"
      ],
      "metadata": {
        "id": "2y9p_4RFI25Q"
      },
      "execution_count": 17,
      "outputs": []
    },
    {
      "cell_type": "code",
      "source": [
        "def get_potential_splits(data):\n",
        "\n",
        "  potential_splits = {}\n",
        "  columns = data.columns\n",
        "\n",
        "  for column_index in range(len(columns)-1):\n",
        "    potential_splits[column_index] = []\n",
        "    unique_values = data[columns[column_index]].unique()\n",
        "\n",
        "    for i,j in zip(unique_values,unique_values[1:]):\n",
        "      val = (i+j)/2\n",
        "      potential_splits[column_index].append(val)\n",
        "\n",
        "  return potential_splits"
      ],
      "metadata": {
        "id": "Ysnok2MEOf_4"
      },
      "execution_count": 18,
      "outputs": []
    },
    {
      "cell_type": "code",
      "source": [
        "sns.lmplot(data = csv_train, x = 'sg', y = 'bp', hue = 'classification', fit_reg = False)"
      ],
      "metadata": {
        "colab": {
          "base_uri": "https://localhost:8080/",
          "height": 524
        },
        "id": "uJiNGPt9uq4p",
        "outputId": "3ef2ed4f-5f82-4629-f415-1ef7994516a3"
      },
      "execution_count": 19,
      "outputs": [
        {
          "output_type": "execute_result",
          "data": {
            "text/plain": [
              "<seaborn.axisgrid.FacetGrid at 0x7c131d768f70>"
            ]
          },
          "metadata": {},
          "execution_count": 19
        },
        {
          "output_type": "display_data",
          "data": {
            "text/plain": [
              "<Figure size 601.111x500 with 1 Axes>"
            ],
            "image/png": "[encoded data removed]"
          },
          "metadata": {}
        }
      ]
    },
    {
      "cell_type": "code",
      "source": [
        "def split_data(data, split_column, split_value):\n",
        "\n",
        "  split_column_values = data[data.columns[split_column]]\n",
        "\n",
        "  data_below = data[split_column_values <= split_value]\n",
        "  data_above = data[split_column_values > split_value]\n",
        "\n",
        "  return data_below, data_above"
      ],
      "metadata": {
        "id": "PEXTpchyu98S"
      },
      "execution_count": 20,
      "outputs": []
    },
    {
      "cell_type": "markdown",
      "source": [
        "### Lowest overall entropy"
      ],
      "metadata": {
        "id": "2dNbYobtT7dc"
      }
    },
    {
      "cell_type": "code",
      "source": [
        "def calculate_entropy(data):\n",
        "\n",
        "  label_column = data[data.columns[-1]]\n",
        "\n",
        "  label_counts = label_column.value_counts().values\n",
        "  probabilities = label_counts/label_counts.sum()\n",
        "  entropy = sum(-probabilities * (np.log2(probabilities)))\n",
        "\n",
        "  return entropy"
      ],
      "metadata": {
        "id": "wVHLDfEKH-TD"
      },
      "execution_count": 21,
      "outputs": []
    },
    {
      "cell_type": "code",
      "source": [
        "def calculate_overall_entropy(data_below, data_above):\n",
        "\n",
        "  n_data_points = len(data_below) + len(data_above)\n",
        "\n",
        "  p_data_below = len(data_below)/ n_data_points\n",
        "  p_data_above = len(data_above)/ n_data_points\n",
        "\n",
        "  overall_entropy = (p_data_below*calculate_entropy(data_below)\n",
        "                    + p_data_above*calculate_entropy(data_above))\n",
        "\n",
        "  return overall_entropy"
      ],
      "metadata": {
        "id": "WXptGyw2ZDjw"
      },
      "execution_count": 22,
      "outputs": []
    },
    {
      "cell_type": "code",
      "source": [
        "def determine_best_split(data, potential_splits):\n",
        "\n",
        "  overall_entropy = 999\n",
        "  for column_index in potential_splits:\n",
        "    for value in potential_splits[column_index]:\n",
        "      data_below, data_above = split_data(data, split_column=column_index, split_value=value)\n",
        "      current_overall_entropy = calculate_overall_entropy(data_below, data_above)\n",
        "\n",
        "      if current_overall_entropy <= overall_entropy:\n",
        "        overall_entropy = current_overall_entropy\n",
        "        best_split_column = column_index\n",
        "        best_split_value = value\n",
        "\n",
        "  return best_split_column, best_split_value\n"
      ],
      "metadata": {
        "id": "QOiOvZpJZ-On"
      },
      "execution_count": 23,
      "outputs": []
    },
    {
      "cell_type": "code",
      "source": [
        "potential_splits = get_potential_splits(csv_train)\n",
        "determine_best_split(csv_train, potential_splits)"
      ],
      "metadata": {
        "colab": {
          "base_uri": "https://localhost:8080/"
        },
        "id": "t1bniM-XdfTW",
        "outputId": "0b1d864a-8082-4732-803e-39cc5ee0126e"
      },
      "execution_count": 24,
      "outputs": [
        {
          "output_type": "execute_result",
          "data": {
            "text/plain": [
              "(10, 12.85)"
            ]
          },
          "metadata": {},
          "execution_count": 24
        }
      ]
    },
    {
      "cell_type": "markdown",
      "source": [
        "# Decision Tree Algorithm"
      ],
      "metadata": {
        "id": "r6Y49gHJSEv4"
      }
    },
    {
      "cell_type": "code",
      "source": [
        "def decision_tree_algorithm(data, counter = 0, min_samples = 5, max_depth = 5):\n",
        "\n",
        "  if (check_purity(data)) or (len(data)<min_samples) or (counter == max_depth):\n",
        "    classification = classify_data(data)\n",
        "    return classification\n",
        "\n",
        "  else:\n",
        "    counter += 1\n",
        "    potential_splits = get_potential_splits(data)\n",
        "    split_column, split_value = determine_best_split(data, potential_splits)\n",
        "    data_below, data_above = split_data(data, split_column, split_value)\n",
        "\n",
        "    # make tree\n",
        "    question = f'{data.columns[split_column]} <= {split_value}'\n",
        "    sub_tree = {question: []}\n",
        "\n",
        "    #find answers and make recursion\n",
        "    yes_answer = decision_tree_algorithm(data_below, counter, min_samples, max_depth)\n",
        "    no_answer = decision_tree_algorithm(data_above, counter, min_samples, max_depth)\n",
        "\n",
        "    if yes_answer == no_answer:\n",
        "      sub_tree = yes_answer\n",
        "\n",
        "    else:\n",
        "      sub_tree[question].append(yes_answer)\n",
        "      sub_tree[question].append(no_answer)\n",
        "\n",
        "    return sub_tree"
      ],
      "metadata": {
        "id": "wF1yB9zYe_Ei"
      },
      "execution_count": 61,
      "outputs": []
    },
    {
      "cell_type": "code",
      "source": [
        "tree = decision_tree_algorithm(csv_train, max_depth = 2)"
      ],
      "metadata": {
        "id": "FYriEtLHdVJH"
      },
      "execution_count": 62,
      "outputs": []
    },
    {
      "cell_type": "code",
      "source": [
        "tree"
      ],
      "metadata": {
        "colab": {
          "base_uri": "https://localhost:8080/"
        },
        "id": "G8faLYBqdqGJ",
        "outputId": "f5f1e6f8-c431-4b5c-b05a-ff924905687e"
      },
      "execution_count": 63,
      "outputs": [
        {
          "output_type": "execute_result",
          "data": {
            "text/plain": [
              "{'hemo <= 12.85': ['ckd', {'sg <= 1.0175': ['ckd', 'notckd']}]}"
            ]
          },
          "metadata": {},
          "execution_count": 63
        }
      ]
    },
    {
      "cell_type": "code",
      "source": [],
      "metadata": {
        "id": "UfmwxH44eCIP"
      },
      "execution_count": null,
      "outputs": []
    }
  ]
}